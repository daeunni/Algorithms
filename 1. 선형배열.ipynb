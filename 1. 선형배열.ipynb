{
 "cells": [
  {
   "cell_type": "markdown",
   "metadata": {},
   "source": [
    "# 1. 선형배열(Linear Arrays)\n",
    "#### **배열** : 같은 종류의 데이터가 줄지어 늘어서 있는 것, 원소들을 순서대로 늘어놓은 것(인덱스가 있음)\n",
    "> 파이썬에서는 리스트 이용. but 파이썬은 리스트 원소로 종류의 제약이 없어 융통적      \n",
    "\n",
    "\n",
    "- 마지막 원소 덧붙이기 : **append**\n",
    "- 마지막 원소 꺼내기 : **pop**\n",
    "> 리스트의 길이와 무관하게 빠르게 할 수 있는 일임    \n",
    "> **O(1)** : 상수시간에 할 수 있는 일    \n",
    "\n",
    "but 리스트 길이가 커질수록 연산량이 늘어나는 것도 있음(선형시간, **O(n)**)\n",
    "- 중간의 원소 삽입하기 : **insert(해당위치, 삽입원소)**\n",
    "- 중간의 원소 삭제하기 : **del(   list[해당위치] )** \n",
    "> del( L[2] ) 와 L.pop(2)의 차이\n",
    "\n",
    "- 특정 원소 위치 반환 : **L.index('원소이름')**"
   ]
  },
  {
   "cell_type": "markdown",
   "metadata": {},
   "source": [
    "-----\n",
    "## 실습 2-(1). 정렬된 리스트에 원소 삽입하기\n",
    "> 리스트 L 과 정수 x 가 인자로 주어질 때, 리스트 내의 올바른 위치에 x 를 삽입하여 그 결과 리스트를 반환하는 함수 solution 을 완성하세요.\n",
    "인자로 주어지는 리스트 L 은 정수 원소들로 이루어져 있으며 크기에 따라 (오름차순으로) 정렬되어 있다고 가정합니다.\n",
    "예를 들어, L = [20, 37, 58, 72, 91] 이고 x = 65 인 경우, 올바른 리턴 값은 [20, 37, 58, 65, 72, 91] 입니다.\n",
    "\n",
    "\n",
    "< 초기 오류 : 예외부분이 실행되지 않음 >      \n",
    "\n",
    "\n",
    "받은 피드백 : \n",
    "> (1) 가장 큰 원소보다도 큰지 와 가장 작은 원소보다도 작은지 를 판단하는 기준이 올바르게 쓰이지 않았으며     \n",
    "\n",
    "> (2) 만약 올바르게 쓴다 하더라도 이 조건들은 순환문 내에서 반복 검사해야 할 것이 아니라 별도로 처리할 수 있는 것입니다.     \n",
    "\n",
    "> 또한, 그 외에 (3) 리스트 원소들의 검사 범위 (last 라는 변수를 이용해서 지정하고자 했는데) 가 올바르지 않습니다.     "
   ]
  },
  {
   "cell_type": "code",
   "execution_count": 1,
   "metadata": {},
   "outputs": [],
   "source": [
    "# 개선한 최종 코드\n",
    "\n",
    "def solution(L, x):\n",
    "    last = int(len(L)-1)\n",
    "    for i in range(last):\n",
    "        if int(L[i]) < int(x) < int(L[i+1]):   # 사이에 있는 경우\n",
    "            L.insert(i+1, x)\n",
    "            break\n",
    "        \n",
    "        # 삽입 원소가 가장 작은 경우, 가장 큰 경우 예외로 처리\n",
    "        else:\n",
    "            if x > int(max(L)) :\n",
    "                L.insert(int(len(L)), x)\n",
    "                break\n",
    "            elif x < int(min(L)):\n",
    "                L.insert(0, x)\n",
    "                break\n",
    "            else:\n",
    "                pass\n",
    "                \n",
    "    return L     "
   ]
  },
  {
   "cell_type": "code",
   "execution_count": 4,
   "metadata": {},
   "outputs": [
    {
     "name": "stdout",
     "output_type": "stream",
     "text": [
      "[1, 3, 6, 7, 10, 11]\n",
      "[0, 1, 3, 6, 10, 11]\n",
      "[1, 3, 6, 10, 11, 20]\n"
     ]
    }
   ],
   "source": [
    "print(solution([1, 3, 6, 10, 11], 7))\n",
    "print(solution([1, 3, 6, 10, 11], 0)) \n",
    "print(solution([1, 3, 6, 10, 11], 20)) "
   ]
  },
  {
   "cell_type": "markdown",
   "metadata": {},
   "source": [
    "### < 다른풀이 공부 >"
   ]
  },
  {
   "cell_type": "code",
   "execution_count": 5,
   "metadata": {},
   "outputs": [
    {
     "name": "stdout",
     "output_type": "stream",
     "text": [
      "[1, 3, 6, 7, 10, 11]\n",
      "[0, 1, 3, 6, 10, 11]\n",
      "[1, 3, 6, 10, 11, 20]\n"
     ]
    }
   ],
   "source": [
    "# 1. 그냥 단순 append한 다음에 sort하기\n",
    "def solution(L, x):\n",
    "    L.append(x)\n",
    "    L.sort()\n",
    "    return L\n",
    "\n",
    "print(solution([1, 3, 6, 10, 11], 7))\n",
    "print(solution([1, 3, 6, 10, 11], 0)) \n",
    "print(solution([1, 3, 6, 10, 11], 20)) "
   ]
  },
  {
   "cell_type": "code",
   "execution_count": 2,
   "metadata": {},
   "outputs": [],
   "source": [
    "# 2. 이렇게도 간단히 됨................\n",
    "\n",
    "def solution(L, x):\n",
    "    return sorted(L + [x])"
   ]
  },
  {
   "cell_type": "code",
   "execution_count": 7,
   "metadata": {},
   "outputs": [
    {
     "name": "stdout",
     "output_type": "stream",
     "text": [
      "[1, 3, 6, 7, 10, 11]\n",
      "[0, 1, 3, 6, 10, 11]\n",
      "[1, 3, 6, 10, 11, 20]\n"
     ]
    }
   ],
   "source": [
    "# 3. enumerate(L) 이용하기(인덱스에는 enumerate를 이용하기 좋음!)\n",
    "\n",
    "def solution(L, x):\n",
    "    for idx, num in enumerate(L):\n",
    "        if num > x:\n",
    "            L.insert(idx, x) # idx위치에 x를 넣는다. \n",
    "            break\n",
    "            \n",
    "        if L[-1] < x:\n",
    "            L.append(x) # 오름차순으로 정렬되어 있으므로 마지막보다 크면 append\n",
    "        else:\n",
    "            pass # 아니면 pass\n",
    "        \n",
    "    return L\n",
    "\n",
    "print(solution([1, 3, 6, 10, 11], 7))\n",
    "print(solution([1, 3, 6, 10, 11], 0)) \n",
    "print(solution([1, 3, 6, 10, 11], 20)) "
   ]
  },
  {
   "cell_type": "code",
   "execution_count": 8,
   "metadata": {},
   "outputs": [
    {
     "name": "stdout",
     "output_type": "stream",
     "text": [
      "10\n",
      "40\n",
      "22\n",
      "11\n",
      "55\n"
     ]
    }
   ],
   "source": [
    "# cf) enumerate : 반복문 사용 시 몇번째 반복문인지 확인하기\n",
    "# 인덱스 번호와 element 번호를 튜플 형태로 반환\n",
    "\n",
    "t = [10, 40, 22, 11, 55]\n",
    "\n",
    "for i, j in enumerate(t):\n",
    "    print(j)"
   ]
  },
  {
   "cell_type": "code",
   "execution_count": 4,
   "metadata": {},
   "outputs": [
    {
     "name": "stdout",
     "output_type": "stream",
     "text": [
      "[1, 3, 6, 7, 10, 11]\n",
      "[0, 1, 3, 6, 10, 11]\n",
      "[1, 3, 6, 10, 11, 20]\n"
     ]
    }
   ],
   "source": [
    "# 4. 반복문 한줄에 쓰기\n",
    "def solution(L, x):\n",
    "    A = [i for i in range(len(L)) if x-L[i]>0] # x보다 작은 수를 가진 리스트 요소 모음\n",
    "    L.insert(len(A), x)\n",
    "    return L\n",
    "\n",
    "print(solution([1, 3, 6, 10, 11], 7))\n",
    "print(solution([1, 3, 6, 10, 11], 0)) \n",
    "print(solution([1, 3, 6, 10, 11], 20)) \n",
    "\n",
    "# 예외처리를 안해도됨...!"
   ]
  },
  {
   "cell_type": "code",
   "execution_count": 6,
   "metadata": {},
   "outputs": [
    {
     "name": "stdout",
     "output_type": "stream",
     "text": [
      "[1, 3, 6, 7, 10, 11]\n",
      "[0, 1, 3, 6, 10, 11]\n",
      "[1, 3, 6, 10, 11, 20]\n"
     ]
    }
   ],
   "source": [
    "# 5. for문 이용\n",
    "def solution(L, x):\n",
    "    if x > L[-1]:\n",
    "        L.append(x)\n",
    "    else:\n",
    "        for i in range(len(L)):\n",
    "            if x <= L[i]:\n",
    "                L.insert(i, x)\n",
    "                break\n",
    "    return L\n",
    "\n",
    "print(solution([1, 3, 6, 10, 11], 7))\n",
    "print(solution([1, 3, 6, 10, 11], 0)) \n",
    "print(solution([1, 3, 6, 10, 11], 20)) "
   ]
  },
  {
   "cell_type": "markdown",
   "metadata": {},
   "source": [
    "---\n",
    "## 실습 2-(2). 리스트에서 해당 원소 찾아내 인덱스 반환\n",
    "> 인자로 주어지는 리스트 L 내에서, 또한 인자로 주어지는 원소 x 가 발견되는 모든 인덱스를 구하여 이 인덱스들로 이루어진 리스트를 반환하는 함수 solution 을 완성하세요.리스트 L 은 정수들로 이루어져 있고 그 순서는 임의로 부여되어 있다고 가정하며, 동일한 원소가 반복하여 들어 있을 수 있습니다. 이 안에 정수 x 가 존재하면 그것들을 모두 발견하여 해당 인덱스들을 리스트로 만들어 반환하고, 만약 존재하지 않으면 하나의 원소로 이루어진 리스트 [-1] 를 반환하는 함수를 완성하세요.\n",
    "\n",
    "\n",
    "< 초기 오류 : index 중복 처리가 안됨 >   \n",
    "\n",
    "\n",
    "해결 방법 :    \n",
    "> - index(a, i) : i번째 위치부터 a 문자가 위치한 자리 를 이용해 if-else 문      \n",
    "> - if, else말고 다르게 짤 순 없을까? \n",
    "\n"
   ]
  },
  {
   "cell_type": "code",
   "execution_count": 2,
   "metadata": {},
   "outputs": [
    {
     "name": "stdout",
     "output_type": "stream",
     "text": [
      "[1, 3]\n",
      "[2]\n",
      "[-1]\n"
     ]
    }
   ],
   "source": [
    "def solution(L, x):\n",
    "    answer = []\n",
    "    \n",
    "    if x in L:\n",
    "        for i in range(len(L)):\n",
    "            a = L[i]\n",
    "            if x == a:\n",
    "                \n",
    "                # 마지막 원소 따로 처리\n",
    "                if i< len(L):\n",
    "                    answer.append(L.index(a, i))  # 인덱스에 집착하다보니 index method를 이용할 수밖에 없었음. ...\n",
    "                else:\n",
    "                    answer.append(L.index(a, i-1)) \n",
    "                # 비효율적인 코드 완성됨..\n",
    "                \n",
    "            else:\n",
    "                pass\n",
    "    else:\n",
    "        answer.append(-1)\n",
    "\n",
    "    return answer\n",
    "\n",
    "print(solution([64, 72, 83, 72, 54], 72)) # 중복된 경우\n",
    "print(solution([64, 72, 83, 72, 54], 83))\n",
    "print(solution([64, 72, 83, 72, 54], 49)) # 없는 경우"
   ]
  },
  {
   "cell_type": "code",
   "execution_count": 10,
   "metadata": {},
   "outputs": [
    {
     "name": "stdout",
     "output_type": "stream",
     "text": [
      "[1, 3]\n",
      "[2]\n",
      "[-1]\n"
     ]
    }
   ],
   "source": [
    "# 1. enumerate 이용...진짜 깔끔하다...\n",
    "\n",
    "def solution(L, x):\n",
    "    if x in L:\n",
    "        return [i for i, j in enumerate(L) if j==x]\n",
    "    else:\n",
    "        return [-1]\n",
    "\n",
    "print(solution([64, 72, 83, 72, 54], 72)) # 중복된 경우\n",
    "print(solution([64, 72, 83, 72, 54], 83))\n",
    "print(solution([64, 72, 83, 72, 54], 49)) # 없는 경우"
   ]
  },
  {
   "cell_type": "code",
   "execution_count": 11,
   "metadata": {},
   "outputs": [
    {
     "name": "stdout",
     "output_type": "stream",
     "text": [
      "[1, 3]\n",
      "[2]\n",
      "[-1]\n"
     ]
    }
   ],
   "source": [
    "# 2. for문 똑똑하게 쓰기\n",
    "\n",
    "def solution(L, x):\n",
    "    idx = []\n",
    "    for i in range(len(L)):\n",
    "        if L[i] == x:\n",
    "            idx.append(i)\n",
    "            \n",
    "    if len(idx) == 0 : # 아무것도 안들어가 있을 때.....\n",
    "        idx.append(-1)\n",
    "        \n",
    "    return idx\n",
    "\n",
    "print(solution([64, 72, 83, 72, 54], 72)) # 중복된 경우\n",
    "print(solution([64, 72, 83, 72, 54], 83))\n",
    "print(solution([64, 72, 83, 72, 54], 49)) # 없는 경우"
   ]
  }
 ],
 "metadata": {
  "kernelspec": {
   "display_name": "Python 3",
   "language": "python",
   "name": "python3"
  },
  "language_info": {
   "codemirror_mode": {
    "name": "ipython",
    "version": 3
   },
   "file_extension": ".py",
   "mimetype": "text/x-python",
   "name": "python",
   "nbconvert_exporter": "python",
   "pygments_lexer": "ipython3",
   "version": "3.7.7"
  }
 },
 "nbformat": 4,
 "nbformat_minor": 4
}
