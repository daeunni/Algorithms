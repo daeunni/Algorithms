{
 "cells": [
  {
   "cell_type": "markdown",
   "metadata": {},
   "source": [
    "# 2. 정렬(sort)과 탐색(search)\n",
    "-----\n",
    "\n",
    "## 2-1. 정렬\n",
    "### 1) Python 리스트의 정렬 \n",
    "1) sorted() : 내장함수, 정렬된 **새로운 리스트**를 얻어냄(새로운 객체에 지정)     \n",
    "> sorted(A)\n",
    "\n",
    "2) sort() : 리스트의 method, 해당 리스트를 정렬\n",
    "> A.sort()\n",
    "\n",
    "+) **reverse = True** : 정렬의 순서를 반대로\n",
    "\n",
    "-----\n",
    "### 2) 문자열 리스트 정렬\n",
    "- default는 사전순 정렬\n",
    "- 사전순이 아니라 문자열의 길이나 특정 기준으로 정렬하려면? \n",
    "> **Key를 지정한다!**"
   ]
  },
  {
   "cell_type": "code",
   "execution_count": 5,
   "metadata": {},
   "outputs": [
    {
     "data": {
      "text/plain": [
       "['xyz', 'spam', 'abcd']"
      ]
     },
     "execution_count": 5,
     "metadata": {},
     "output_type": "execute_result"
    }
   ],
   "source": [
    "L = ['abcd', 'xyz', 'spam']\n",
    "L.sort()\n",
    "L    # 이렇게 디폴트는 문자열 사전순임. "
   ]
  },
  {
   "cell_type": "code",
   "execution_count": 6,
   "metadata": {},
   "outputs": [
    {
     "data": {
      "text/plain": [
       "['xyz', 'spam', 'abcd']"
      ]
     },
     "execution_count": 6,
     "metadata": {},
     "output_type": "execute_result"
    }
   ],
   "source": [
    "# 길이순으로 정렬하려면? key를 지정하자! (lambda 함수 이용)\n",
    "\n",
    "L.sort(key = lambda x : len(x))\n",
    "L   # 길이가 같은 문자열은 상대적 순서로 반환"
   ]
  },
  {
   "cell_type": "code",
   "execution_count": 9,
   "metadata": {},
   "outputs": [
    {
     "data": {
      "text/plain": [
       "[{'name': 'Paul', 'score': 92}, {'name': 'John', 'score': 83}]"
      ]
     },
     "execution_count": 9,
     "metadata": {},
     "output_type": "execute_result"
    }
   ],
   "source": [
    "# Key를 지정하는 또 다른 예 : 딕셔너리 이용\n",
    "\n",
    "L = [ {'name':'John', 'score':83}, {'name':'Paul', 'score':92}]\n",
    "L.sort(key=lambda x : x['name'], reverse=True)  # 이름 순으로 정렬\n",
    "L"
   ]
  },
  {
   "cell_type": "markdown",
   "metadata": {},
   "source": [
    "## 2-2. 탐색\n",
    "### 1) 선형탐색\n",
    "순차적으로 앞에서부터 찾는 탐색.       \n",
    "but 찾으려는 원소가 맨 끝에 있으면 오랜 시간이 걸릴 수 있음. \n",
    "\n",
    "> 리스트의 길이에 비례하는 시간이 소요됨"
   ]
  },
  {
   "cell_type": "code",
   "execution_count": 12,
   "metadata": {},
   "outputs": [
    {
     "data": {
      "text/plain": [
       "4"
      ]
     },
     "execution_count": 12,
     "metadata": {},
     "output_type": "execute_result"
    }
   ],
   "source": [
    "def linear_search(L, x):\n",
    "    i = 0\n",
    "    while i<len(L) and L[i] !=x:\n",
    "        i+=1\n",
    "    if i<len(L):\n",
    "        return i\n",
    "    else:\n",
    "        return -1\n",
    "    \n",
    "S = [3,8,2,7,6,10,9]\n",
    "linear_search(S, 6)"
   ]
  },
  {
   "cell_type": "code",
   "execution_count": 13,
   "metadata": {},
   "outputs": [
    {
     "data": {
      "text/plain": [
       "4"
      ]
     },
     "execution_count": 13,
     "metadata": {},
     "output_type": "execute_result"
    }
   ],
   "source": [
    "S.index(6)  # 이 결과와 동일"
   ]
  },
  {
   "cell_type": "markdown",
   "metadata": {},
   "source": [
    "### 2) 이진탐색\n",
    "탐색하려는 리스트가 이미 정렬되어 있을 때만 적용 가능    \n",
    "**(크기순으로 정렬되어있다는 사실 사용)**\n",
    "\n",
    "> ex) 중간값을 찍었는데, 찾아야하는 원소보다 작으면 뒤 값을 모두 버림. 그리고 앞에만 고려함   \n",
    "\n",
    "> **한번 비교가 일어날 때마다 리스트의 반씩 줄임 (divide & conquer)**\n",
    "\n",
    "> 항상 이진탐색이 선형탐색보다 효율적인 것은 아니다. 정렬하는데에도 복잡도가 소요되기 때문! 문제 by 문제이다\n",
    "\n"
   ]
  },
  {
   "cell_type": "code",
   "execution_count": null,
   "metadata": {},
   "outputs": [],
   "source": [
    "# 이진탐색으로 하기(선형탐색으로 하면 효율성 망함)\n",
    "def solution(L, x):\n",
    "    lower = 0  # 맨 처음 인덱스\n",
    "    upper = len(L)-1  # 맨 마지막 인덱스\n",
    "    \n",
    "    if x not in L:\n",
    "        return -1  # 예외처리\n",
    "    \n",
    "    while (lower <= upper) :   # while 종료 조건이 중요함        \n",
    "        middle = (lower + upper) //2   # 평균의 느낌임\n",
    "        if L[middle] == x:\n",
    "            return middle\n",
    "            break\n",
    "        \n",
    "        elif L[middle] < x:  # 타겟보다 작음 > 큰 부분에서만 본다\n",
    "            lower = middle+1     ##### -1을 해줘야함!!!!!!!!\n",
    "\n",
    "        else:  # 타겟보다 큼 > 큰 부분에서만 본다\n",
    "            upper = middle-1     ##### -1을 해줘야함!!!!!!!!!\n",
    "\n",
    "#### 이진탐색 middle이 없을땐 어떻게하냐? >> +_1을 해줘서 해결"
   ]
  }
 ],
 "metadata": {
  "kernelspec": {
   "display_name": "Python 3",
   "language": "python",
   "name": "python3"
  },
  "language_info": {
   "codemirror_mode": {
    "name": "ipython",
    "version": 3
   },
   "file_extension": ".py",
   "mimetype": "text/x-python",
   "name": "python",
   "nbconvert_exporter": "python",
   "pygments_lexer": "ipython3",
   "version": "3.7.7"
  }
 },
 "nbformat": 4,
 "nbformat_minor": 4
}
