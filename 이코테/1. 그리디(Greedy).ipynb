{
 "cells": [
  {
   "cell_type": "markdown",
   "metadata": {},
   "source": [
    "# 1. 그리디(Greedy)\n",
    "\n",
    "- 현재 상황에서 지금 당장 좋은 것만 무식하게 고르는 방법(아이디어를 요구하는 문제)    \n",
    "> 현재 상황에서 가장 좋아보이는 것만 선택해도 문제를 풀 수 있는지를 파악하는게 중요 ! (**그리디의 정당성**)\n",
    "\n",
    "- 기준에 따라 좋은 것을 선택하는 알고리즘이므로 문제에서 <u>'가장 큰 순서대로', '가장 작은 순서대로'</u> 등과 같은 기준을 제시해줌  \n",
    "\n",
    "- 문제 유형을 파악할 수 없다면 그리디를 의심하자!"
   ]
  },
  {
   "cell_type": "code",
   "execution_count": 10,
   "metadata": {},
   "outputs": [
    {
     "name": "stdout",
     "output_type": "stream",
     "text": [
      "6\n"
     ]
    }
   ],
   "source": [
    "# ex1) 거스름돈 문제 : 가장 큰 화폐 단위부터 거슬러준다\n",
    "\n",
    "N = 1260   # 손님에게 거슬러 줘야할 돈\n",
    "coin = [500, 100, 50, 10]\n",
    "num = 0\n",
    "\n",
    "for i in coin:\n",
    "    num += N//i\n",
    "    N %= i\n",
    "print(num)"
   ]
  },
  {
   "cell_type": "markdown",
   "metadata": {},
   "source": [
    "이 문제는 가지고 있는 동전의 큰단위가 항상 작은 단위의 배수이므로, 가장 큰 화폐부터 거슬러 주는 아이디어가 최적의 해를 도출해낼 수 있다.      \n",
    "만약 배수 형태가 아니라면 최적의 해를 도출할 수 없다! \n",
    "\n",
    "> 그리디 문제를 풀때는 이런 **정당성**에 대한 고민을 할 것 !"
   ]
  },
  {
   "cell_type": "code",
   "execution_count": 26,
   "metadata": {},
   "outputs": [
    {
     "name": "stdout",
     "output_type": "stream",
     "text": [
      "5 8 3\n",
      "2 4 5 4 6 \n",
      "46\n"
     ]
    }
   ],
   "source": [
    "# ex2) 큰 수의 법칙 : 가장 큰 수와 그 다음 큰수만 저장하자 *** \n",
    "\n",
    "# n : 배열의 크기, m : 숫자가 더해지는 횟수, k : 초과하여 더해질 수 없음 \n",
    "n, m, k = map(int, input().split())  # 공백으로 구분해 숫자 입력받기\n",
    "data = list(map(int, input().split()))   # 숫자배열 \n",
    "data = sorted(data)   # sort  \n",
    "result = 0 \n",
    "\n",
    "while m!=0: \n",
    "    if m>=k:\n",
    "        result += data[n-1] * k                    # 하나씩 감소시킴       \n",
    "        m = m-k\n",
    "        result += data[n-2]  # 한번만 더하기 \n",
    "        m = m-1\n",
    "    else:\n",
    "        result += data[n-1]*m\n",
    "        break\n",
    "        \n",
    "print(result)"
   ]
  },
  {
   "cell_type": "markdown",
   "metadata": {},
   "source": [
    "이렇게 간단히 해결이 가능하지만 m(더하는 횟수)가 커진다면 시간초과가 발생할 것 ! \n",
    "\n",
    "> 수학적 아이디어인 수열을 이용하자! (**가장 큰 수가 더해지는 횟수**) \n"
   ]
  },
  {
   "cell_type": "code",
   "execution_count": 29,
   "metadata": {},
   "outputs": [
    {
     "name": "stdout",
     "output_type": "stream",
     "text": [
      "5 8 3 \n",
      "2 4 5 4 6 \n",
      "46\n",
      "6\n"
     ]
    }
   ],
   "source": [
    "n, m, k = map(int, input().split())\n",
    "data = list(map(int, input().split()))\n",
    "result = 0\n",
    "data.sort()\n",
    "\n",
    "# 가장 큰 수가 더해지는 횟수 구하기\n",
    "count = int(m/ (k+1))*k + m%(k+1)\n",
    "result = data[n-1] * count + data[n-2] * (m-count)\n",
    "print(result)"
   ]
  },
  {
   "cell_type": "code",
   "execution_count": 39,
   "metadata": {},
   "outputs": [
    {
     "name": "stdout",
     "output_type": "stream",
     "text": [
      "7 3 1 8\n",
      "3 3 3 4\n",
      "3\n"
     ]
    }
   ],
   "source": [
    "# ex3) 숫자 카드 게임 : 각 행마다 작은수를 업데이트 \n",
    "\n",
    "n, m = map(int, input().split())\n",
    "num = 0\n",
    "for i in range(n):\n",
    "    data = list(map(int, input().split()))\n",
    "    if min(data)>num:\n",
    "        num = min(data)\n",
    "print(num)"
   ]
  },
  {
   "cell_type": "code",
   "execution_count": 46,
   "metadata": {},
   "outputs": [
    {
     "name": "stdout",
     "output_type": "stream",
     "text": [
      "25 3\n",
      "6\n"
     ]
    }
   ],
   "source": [
    "# ex4) 1이 될 때까지 \n",
    "\n",
    "n, k = map(int, input().split())\n",
    "num = 0   # 연산횟수 \n",
    "\n",
    "while n!=1:\n",
    "    if n%k==0:            # k로 나눠지면\n",
    "        n = n/k\n",
    "        num += 1\n",
    "    else:                 # k로 안나눠지면\n",
    "        n = n-1\n",
    "        num += 1\n",
    "print(num)"
   ]
  }
 ],
 "metadata": {
  "kernelspec": {
   "display_name": "Python 3",
   "language": "python",
   "name": "python3"
  },
  "language_info": {
   "codemirror_mode": {
    "name": "ipython",
    "version": 3
   },
   "file_extension": ".py",
   "mimetype": "text/x-python",
   "name": "python",
   "nbconvert_exporter": "python",
   "pygments_lexer": "ipython3",
   "version": "3.7.7"
  }
 },
 "nbformat": 4,
 "nbformat_minor": 4
}
