{
 "cells": [
  {
   "cell_type": "markdown",
   "id": "82901137",
   "metadata": {},
   "source": [
    "# 2. 구현\n",
    "- 머리속에 있는 알고리즘을 소스코드로 바꾸는 과정을 묻는 문제\n",
    "> 코드 작성 능력을 요구하는 문제(복잡한 조건, 생각하기는 쉬운데 막상 코드 짜기는 어려운 유형)\n",
    "\n",
    "1. 완전탐색 : 모든 경우의 수를 다 계산하는 방법 \n",
    "2. 시뮬레이션 : 문제에서 제시한 알고리즘을 한단계씩 차례대로 직접 수행"
   ]
  },
  {
   "cell_type": "code",
   "execution_count": 23,
   "id": "914c9026",
   "metadata": {},
   "outputs": [
    {
     "name": "stdout",
     "output_type": "stream",
     "text": [
      "5 \n",
      "R R R U D D\n",
      "['R', 'R', 'R', 'U', 'D', 'D']\n",
      "1 2\n",
      "1 2\n"
     ]
    }
   ],
   "source": [
    "### 1) 상하좌우 : 시뮬레이션 문제\n",
    "\n",
    "# 내 답변,,,,\n",
    "n = int(input())   # 좌표 크기\n",
    "plans = list(map(str, input().split()))   # 계획\n",
    "x, y = 1, 1  # start point\n",
    "\n",
    "for i in plans: \n",
    "    if x>=1 & y>=1 & x<=n & y<=n:   # condition satisfied\n",
    "        if i=='L': y-=1\n",
    "        elif i=='R': y+=1\n",
    "        elif i=='U': x-=1\n",
    "        else: x+=1\n",
    "        print(x, y)\n",
    "        \n",
    "print(x, y)        # 나의 전형적인,,,,, 풀이 방식,,,,"
   ]
  },
  {
   "cell_type": "code",
   "execution_count": 25,
   "id": "67838030",
   "metadata": {},
   "outputs": [
    {
     "name": "stdout",
     "output_type": "stream",
     "text": [
      "5\n",
      "R R R U D D\n",
      "3 4\n"
     ]
    }
   ],
   "source": [
    "# 정답 답변\n",
    "\n",
    "n = int(input())\n",
    "x, y = 1, 1\n",
    "plans = input().split()\n",
    "\n",
    "move = ['L', 'R', 'U', 'D']\n",
    "dx = [0, 0, -1, 1]\n",
    "dy = [-1, 1, 0, 0]   # 약간 좌표 개념으로 쓰기(리스트 매핑 사용)\n",
    "\n",
    "for p in plans:\n",
    "    \n",
    "    for i in range(len(move)):\n",
    "        if p == move[i]:        # 이동 값을 먼저 계산 (처음부터 끝까지 다 훑음)\n",
    "            nx = x + dx[i]\n",
    "            ny = y + dy[i]\n",
    "    \n",
    "    if nx < 1 or ny < 1 or nx > n or ny > n :\n",
    "        continue   # 조건 제외하고 변수에 저장 (여기서 반복문 끝내기)\n",
    "        \n",
    "    x, y = nx, ny\n",
    "\n",
    "print(x, y)"
   ]
  },
  {
   "cell_type": "code",
   "execution_count": 26,
   "id": "381c4d4d",
   "metadata": {},
   "outputs": [
    {
     "name": "stdout",
     "output_type": "stream",
     "text": [
      "5\n",
      "11475\n"
     ]
    }
   ],
   "source": [
    "### 2) 시각 : 완전 탐색 문제\n",
    "\n",
    "n = int(input())  # 시간을 입력받음 \n",
    "count = 0\n",
    "\n",
    "for i in range(n+1):        # 삼중 For문인데 시간이라 얼마 안걸림,,\n",
    "    for j in range(60):\n",
    "        for k in range(60):\n",
    "            \n",
    "            if '3' in str(i) + str(j) + str(k):\n",
    "                count += 1\n",
    "print(count)"
   ]
  }
 ],
 "metadata": {
  "kernelspec": {
   "display_name": "Python 3",
   "language": "python",
   "name": "python3"
  },
  "language_info": {
   "codemirror_mode": {
    "name": "ipython",
    "version": 3
   },
   "file_extension": ".py",
   "mimetype": "text/x-python",
   "name": "python",
   "nbconvert_exporter": "python",
   "pygments_lexer": "ipython3",
   "version": "3.8.8"
  }
 },
 "nbformat": 4,
 "nbformat_minor": 5
}
