{
 "cells": [
  {
   "cell_type": "markdown",
   "id": "382bd329",
   "metadata": {},
   "source": [
    "# 1. Greedy review\n",
    "\n",
    "이익을 볼 수 있는 **절대규칙**을 찾자 !"
   ]
  },
  {
   "cell_type": "code",
   "execution_count": 7,
   "id": "81e7d7ec",
   "metadata": {},
   "outputs": [
    {
     "name": "stdout",
     "output_type": "stream",
     "text": [
      "2\n"
     ]
    }
   ],
   "source": [
    "# 1. 모험가 길드\n",
    "\n",
    "# N = input()\n",
    "# scare = list(map(int, input().split()))\n",
    "\n",
    "N = 5 \n",
    "scare = [2, 3, 1, 2, 2]\n",
    "scare = sorted(scare)\n",
    "group_count = 0      # group count \n",
    "present = 0        # 현재 그룹에 있는 모험가 수 \n",
    "\n",
    "for i in scare:\n",
    "    present += 1   # 우선 모험가 한명 있음 (해당 안되면 이 present에 계속 쌓이는 구조)\n",
    "    ## 걍 개똑똑한거같다 이런 생각을 하는거 자체가.....\n",
    "    \n",
    "    if present >= i:   # 현재 확인하고 있는 공포도보다 현재 인원이 크거나 같다면,,\n",
    "        group_count += 1\n",
    "        present = 0\n",
    "        \n",
    "print(group_count)"
   ]
  },
  {
   "cell_type": "code",
   "execution_count": 13,
   "id": "3db7bb45",
   "metadata": {},
   "outputs": [
    {
     "name": "stdout",
     "output_type": "stream",
     "text": [
      "2\n"
     ]
    }
   ],
   "source": [
    "## 예전 풀이 : 뭘 어떻게 푼거냐 이건......\n",
    "\n",
    "n = 5 \n",
    "scare = [2, 3, 1, 2, 2]\n",
    "scare.sort()  # 오름차순 정렬\n",
    "group_num = 0\n",
    "n = n-1             # 인덱스때문\n",
    "\n",
    "while n>0:\n",
    "    b = int(scare[0])  \n",
    "    n = n-b\n",
    "    if len(scare)>scare[n]:    #  맨 뒤 조건 추가(버릴 애 결정 여부)\n",
    "        while b!=0:          \n",
    "            scare.pop(0)  # 앞에서부터 버림 \n",
    "            b = b-1\n",
    "        group_num +=1\n",
    "print(group_num)   "
   ]
  },
  {
   "cell_type": "code",
   "execution_count": 34,
   "id": "3483aa3f",
   "metadata": {},
   "outputs": [
    {
     "name": "stdout",
     "output_type": "stream",
     "text": [
      "576\n"
     ]
    }
   ],
   "source": [
    "# 2. 곱하기 혹은 더하기 : 1이하의 수는 무조건 더하는게 이득이라는 절대규칙 !\n",
    "\n",
    "### 왜 오류가 날까???????????? > result 조건 때문 !!!!!!!!!!! \n",
    "num = '02984'\n",
    "result = int(num[0])\n",
    "\n",
    "for i in range(len(num)-1):\n",
    "    \n",
    "    a = int(num[i+1])\n",
    "    \n",
    "    if a <= 1 or result <= 1:    # result 조건이 없으면 그냥 0이나온다..\n",
    "        result += a\n",
    "        \n",
    "    else:\n",
    "        result *= a\n",
    "        \n",
    "print(result)"
   ]
  },
  {
   "cell_type": "code",
   "execution_count": 32,
   "id": "d6434e6c",
   "metadata": {},
   "outputs": [
    {
     "name": "stdout",
     "output_type": "stream",
     "text": [
      "576\n"
     ]
    }
   ],
   "source": [
    "## 아이디어 없고 그냥 일일히 판단하는 코드.. \n",
    "\n",
    "result = int(num[0])   # 처음을 result로 먼저 지정 \n",
    "\n",
    "for i in range(len(num)-1):\n",
    "    \n",
    "    if int(num[i+1]) + result > int(num[i+1]) * result :\n",
    "        result += int(num[i+1])\n",
    "    else:\n",
    "        result *= int(num[i+1])\n",
    "        \n",
    "print(result)"
   ]
  },
  {
   "cell_type": "code",
   "execution_count": 40,
   "id": "07bfdb69",
   "metadata": {},
   "outputs": [
    {
     "data": {
      "text/plain": [
       "[0, 1, 2, 5, 6]"
      ]
     },
     "execution_count": 40,
     "metadata": {},
     "output_type": "execute_result"
    }
   ],
   "source": [
    "# 3. 문자열 뒤집기\n",
    "\n",
    "string = '0001100'\n",
    "\n",
    "res = list(filter(lambda x: string[x]=='0', range(len(string))))\n",
    "res     # 인덱스 위치 반환해주는 filter 함수 이용 "
   ]
  },
  {
   "cell_type": "code",
   "execution_count": 53,
   "id": "c412fc8c",
   "metadata": {},
   "outputs": [
    {
     "name": "stdout",
     "output_type": "stream",
     "text": [
      "1\n"
     ]
    }
   ],
   "source": [
    "# 인덱스가 연속한지 판단하는 define 함수 생성 \n",
    "\n",
    "def define(index_list):\n",
    "    count, present = 0, 0\n",
    "    \n",
    "    for i in range(len(index_list)-1):\n",
    "        present = index_list[i]\n",
    "        \n",
    "        if index_list[i+1] != (present+1):  # 인덱스가 연속하지 않으면 \n",
    "            count += 1   # count 하나 추가\n",
    "            \n",
    "    return count + 1  # 마지막 count는 되지 않으므로 return은 1더해서 해주기\n",
    "\n",
    "string = '0001100'\n",
    "\n",
    "# 0, 1의 인덱스 위치 리스트 출력 \n",
    "zero_list = list(filter(lambda x: string[x]=='0', range(len(string))))\n",
    "one_list = list(filter(lambda x: string[x]=='1', range(len(string))))\n",
    "\n",
    "print(min(define(zero_list), define(one_list)))  # 두 함수값 중 작은 것을 반환 "
   ]
  },
  {
   "cell_type": "code",
   "execution_count": null,
   "id": "33adcaef",
   "metadata": {},
   "outputs": [],
   "source": [
    "## 훨씬 더 간단하게 풀기 : 숫자가 어차피 0, 1밖에 없으므로 그냥 다른 여부만 확인하면 된다\n",
    "\n",
    "count0 = 0   # 전부 0으로 바꾸는 경우\n",
    "count1 = 0\n",
    "\n",
    "if data[0] == '1':   # 원래 숫자가 1이면 \n",
    "    count0 += 1     # 0으로 바꾸고 시작한다. \n",
    "else:\n",
    "    count1 += 1\n",
    "\n",
    "for i in range(len(data)-1):\n",
    "    \n",
    "    if data[i] != data[i+1]:   # 연속한 값이 다르면 ! (다르다는 전제 하에 count)\n",
    "        \n",
    "        if data[i+1] == '1':    # 기존의 값이 0이면\n",
    "            count0 += 1      # 0으로 바꿔준다\n",
    "        else:\n",
    "            count1 += 1\n",
    "            \n",
    "print(min(count0, count1))"
   ]
  },
  {
   "cell_type": "code",
   "execution_count": 10,
   "id": "e254a3f2",
   "metadata": {},
   "outputs": [
    {
     "name": "stdout",
     "output_type": "stream",
     "text": [
      "8\n"
     ]
    }
   ],
   "source": [
    "# 4. 만들 수 없는 금액 >> 아이디어가 너무 어려움\n",
    "\n",
    "## [ n-1까지 모든 수를 만들 수 있다는 가정하에 n번째 수를 만들 수 있는가...? ]\n",
    "## 질문을 꺼내는 동전 k원이 n원 이하이면 n원을 만들 수 있고, \n",
    "## 그럼 다음으로 꺼내는 동전에게는 n+k원을 만들 수 있는지 물어야한다\n",
    "\n",
    "N = 3\n",
    "coin = [3, 2, 1, 1, 9]\n",
    "coin.sort()    # 우선 오름차순으로 정렬 [1, 1, 2, 3, 9]\n",
    "\n",
    "can_make = 1   # 우선 1이 저장됨 (can_make 이하의 값은 다 만들 수 있다고 정의)\n",
    "\n",
    "for i in coin:\n",
    "    \n",
    "    if can_make < i :   # 현재 만들 수 있는 수가 다음에 나올 코인보다 작으면\n",
    "        break\n",
    "        \n",
    "    can_make += i    # 이게 왜 만들 수 없는 금액이 되는거지?????? \n",
    "    \n",
    "print(can_make)\n",
    "\n",
    "\n",
    "# 아니 코드 짜고 맞았는데 아직도 아이디어를 이해를 못하겠음...."
   ]
  },
  {
   "cell_type": "code",
   "execution_count": 16,
   "id": "9ab85723",
   "metadata": {},
   "outputs": [
    {
     "name": "stdout",
     "output_type": "stream",
     "text": [
      "8\n"
     ]
    }
   ],
   "source": [
    "# 5. 볼링공 고르기\n",
    "N = 5\n",
    "M = 3\n",
    "balls = [1, 3, 2, 3, 2]\n",
    "result = 0\n",
    "\n",
    "from itertools import combinations \n",
    "com = list(combinations(balls, 2))\n",
    "\n",
    "for i in range(len(com)):\n",
    "    if com[i][0] != com[i][1]:\n",
    "        result += 1\n",
    "        \n",
    "print(result)"
   ]
  },
  {
   "cell_type": "code",
   "execution_count": 19,
   "id": "d3773c10",
   "metadata": {},
   "outputs": [
    {
     "name": "stdout",
     "output_type": "stream",
     "text": [
      "8\n"
     ]
    }
   ],
   "source": [
    "## < 더 효율적인 교재 풀이 > \n",
    "\n",
    "## 아이디어 : A가 먼저 정렬된 공을 선택하고, 그에 따른 B의 경우의 수를 구한다\n",
    "\n",
    "# 1부터 10까지의 무게를 담을 수 있는 빈 리스트를 만든다!!\n",
    "array = [0] * 11\n",
    "\n",
    "for i in balls:\n",
    "    array[i] += 1 # 각 무게에 해당하는 볼링공 개수 count\n",
    "    \n",
    "result = 0\n",
    "\n",
    "for i in range(1, M+1):\n",
    "    N-= array[i]            # a가 선택할 수 있는 경우의수 제외 \n",
    "    result += array[i] * N    # b가 선택하는 경우의 수(n)와 곱하기\n",
    "\n",
    "print(result)"
   ]
  },
  {
   "cell_type": "code",
   "execution_count": 17,
   "id": "beb379c1",
   "metadata": {},
   "outputs": [
    {
     "data": {
      "text/plain": [
       "[0, 0, 0, 0, 0, 0, 0, 0, 0, 0, 0]"
      ]
     },
     "execution_count": 17,
     "metadata": {},
     "output_type": "execute_result"
    }
   ],
   "source": [
    "array = [0] * 11\n",
    "array"
   ]
  }
 ],
 "metadata": {
  "kernelspec": {
   "display_name": "Python 3",
   "language": "python",
   "name": "python3"
  },
  "language_info": {
   "codemirror_mode": {
    "name": "ipython",
    "version": 3
   },
   "file_extension": ".py",
   "mimetype": "text/x-python",
   "name": "python",
   "nbconvert_exporter": "python",
   "pygments_lexer": "ipython3",
   "version": "3.8.8"
  }
 },
 "nbformat": 4,
 "nbformat_minor": 5
}
